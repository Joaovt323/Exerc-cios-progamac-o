{
  "nbformat": 4,
  "nbformat_minor": 0,
  "metadata": {
    "colab": {
      "provenance": [],
      "authorship_tag": "ABX9TyMRvo/B00iWBUftJe97cULz",
      "include_colab_link": true
    },
    "kernelspec": {
      "name": "python3",
      "display_name": "Python 3"
    },
    "language_info": {
      "name": "python"
    }
  },
  "cells": [
    {
      "cell_type": "markdown",
      "metadata": {
        "id": "view-in-github",
        "colab_type": "text"
      },
      "source": [
        "<a href=\"https://colab.research.google.com/github/Joaovt323/Exerc-cios-progamac-o/blob/main/Aula_la%C3%A7os.ipynb\" target=\"_parent\"><img src=\"https://colab.research.google.com/assets/colab-badge.svg\" alt=\"Open In Colab\"/></a>"
      ]
    },
    {
      "cell_type": "code",
      "execution_count": 1,
      "metadata": {
        "colab": {
          "base_uri": "https://localhost:8080/"
        },
        "id": "RwithdgE_kvA",
        "outputId": "17c7942a-ac34-4c51-f9da-83ba90a89729"
      },
      "outputs": [
        {
          "output_type": "stream",
          "name": "stdout",
          "text": [
            "jão\n"
          ]
        }
      ],
      "source": [
        "print ('jão')"
      ]
    },
    {
      "cell_type": "code",
      "source": [
        "ano = 2023 \n",
        "print(ano)"
      ],
      "metadata": {
        "colab": {
          "base_uri": "https://localhost:8080/"
        },
        "id": "Cl55E_iUCrYO",
        "outputId": "e7e7ef90-789d-4584-a72d-93d4dbf2d684"
      },
      "execution_count": 53,
      "outputs": [
        {
          "output_type": "stream",
          "name": "stdout",
          "text": [
            "2023\n"
          ]
        }
      ]
    },
    {
      "cell_type": "markdown",
      "source": [
        "Laço For"
      ],
      "metadata": {
        "id": "whh_NDIkERA7"
      }
    },
    {
      "cell_type": "code",
      "source": [
        "#criando uma lista\n",
        "frutas = ['jaca', 'manga', 'morango', 'pinha', 'goiaba']"
      ],
      "metadata": {
        "id": "n926trc9EWRS"
      },
      "execution_count": 5,
      "outputs": []
    },
    {
      "cell_type": "code",
      "source": [
        "for i in frutas:\n",
        "  print(i)"
      ],
      "metadata": {
        "colab": {
          "base_uri": "https://localhost:8080/"
        },
        "id": "jY6BI5qYFMMc",
        "outputId": "65db37a6-0af8-4fc1-a77f-32dbd374f5b7"
      },
      "execution_count": 8,
      "outputs": [
        {
          "output_type": "stream",
          "name": "stdout",
          "text": [
            "jaca\n",
            "manga\n",
            "morango\n",
            "pinha\n",
            "goiaba\n"
          ]
        }
      ]
    },
    {
      "cell_type": "code",
      "source": [
        "for i in frutas:\n",
        "  if(i == 'morango'):\n",
        "    print(i)"
      ],
      "metadata": {
        "colab": {
          "base_uri": "https://localhost:8080/"
        },
        "id": "H4mDH-ktGATq",
        "outputId": "b21d0788-d8de-4725-b602-961c44a2de5f"
      },
      "execution_count": 10,
      "outputs": [
        {
          "output_type": "stream",
          "name": "stdout",
          "text": [
            "morango\n"
          ]
        }
      ]
    },
    {
      "cell_type": "code",
      "source": [
        "fruta = input('Insira uma fruta: ')\n",
        "#inserir valores em listas...\n",
        "frutas.append(frutas)\n",
        "frutas"
      ],
      "metadata": {
        "colab": {
          "base_uri": "https://localhost:8080/"
        },
        "id": "b3HeJFGWHyHe",
        "outputId": "76bb4c07-05c7-4ad1-e77f-580aa893a36c"
      },
      "execution_count": 13,
      "outputs": [
        {
          "name": "stdout",
          "output_type": "stream",
          "text": [
            "Insira uma fruta: #\n"
          ]
        },
        {
          "output_type": "execute_result",
          "data": {
            "text/plain": [
              "['jaca', 'manga', 'morango', 'pinha', 'goiaba', [...], [...], [...]]"
            ]
          },
          "metadata": {},
          "execution_count": 13
        }
      ]
    },
    {
      "cell_type": "code",
      "source": [
        "#\n",
        "notas = [8, 9, 3, 4, 7, 10, 3, 6, 7]"
      ],
      "metadata": {
        "id": "I-yYPnhQIs1P"
      },
      "execution_count": 15,
      "outputs": []
    },
    {
      "cell_type": "code",
      "source": [
        "for nota in notas:\n",
        "  if(nota >= 7):\n",
        "    print(nota)\n",
        "  "
      ],
      "metadata": {
        "colab": {
          "base_uri": "https://localhost:8080/"
        },
        "id": "MiG7VbVNJG-B",
        "outputId": "fa4fbb20-df60-4785-b331-b083b7d7ec72"
      },
      "execution_count": 17,
      "outputs": [
        {
          "output_type": "stream",
          "name": "stdout",
          "text": [
            "8\n",
            "9\n",
            "7\n",
            "10\n",
            "7\n"
          ]
        }
      ]
    },
    {
      "cell_type": "code",
      "source": [
        "#Exiba a quantidade de aprovados e reprovados\n",
        "aprovados = 0\n",
        "reprovados = 0\n",
        "for nota in notas:\n",
        "  if(nota>=7):\n",
        "    aprovados += 1\n",
        "  else:\n",
        "    reprovados += 1\n",
        "\n",
        "print('Aprovados: ', aprovados)\n",
        "print('Reprovados: ', reprovados) \n"
      ],
      "metadata": {
        "colab": {
          "base_uri": "https://localhost:8080/"
        },
        "id": "7sFfN3bHJblv",
        "outputId": "16db4091-3552-42b8-8e59-fd72c876ac50"
      },
      "execution_count": 29,
      "outputs": [
        {
          "output_type": "stream",
          "name": "stdout",
          "text": [
            "Aprovados:  5\n",
            "Reprovados:  4\n"
          ]
        }
      ]
    },
    {
      "cell_type": "markdown",
      "source": [
        "Laço While"
      ],
      "metadata": {
        "id": "PNIZBc88Qjeb"
      }
    },
    {
      "cell_type": "code",
      "source": [
        "#criar um progama que liste os números de 1 a 10\n",
        "\n",
        "cont = 1\n",
        "numeros = []\n",
        "\n",
        "while (cont<=10):\n",
        " numeros.append(cont)\n",
        " cont += 1\n",
        "\n",
        "numeros"
      ],
      "metadata": {
        "colab": {
          "base_uri": "https://localhost:8080/"
        },
        "id": "5n_bWPlHQkZj",
        "outputId": "289dacde-6a13-4484-d9aa-a7ef41b8c2f3"
      },
      "execution_count": 34,
      "outputs": [
        {
          "output_type": "execute_result",
          "data": {
            "text/plain": [
              "[1, 2, 3, 4, 5, 6, 7, 8, 9, 10]"
            ]
          },
          "metadata": {},
          "execution_count": 34
        }
      ]
    },
    {
      "cell_type": "code",
      "source": [
        "lista = int(input('Digite o tamanho da lista desejada: '))\n",
        "\n",
        "cont = 1\n",
        "numeros = []\n",
        "\n",
        "while (cont <= lista):\n",
        " numeros.append(cont)\n",
        " cont += 1\n",
        "\n",
        "numeros"
      ],
      "metadata": {
        "id": "ATokkrknSaj0"
      },
      "execution_count": null,
      "outputs": []
    },
    {
      "cell_type": "code",
      "source": [
        "cidade = []\n",
        "cidades = input('Insira o nome de cidades: ')\n",
        "\n",
        "while(cidades != '0'):\n",
        " cidades = input('Insira o nome de cidades: ')\n",
        " cidade.append(cidades)\n",
        "\n",
        "cidade\n"
      ],
      "metadata": {
        "id": "Etc6pOY4U6kS"
      },
      "execution_count": null,
      "outputs": []
    },
    {
      "cell_type": "code",
      "source": [
        "num = int(input('Digite um numero: '))\n",
        "\n",
        "while(num >=0):\n",
        " if(num % 2==0):\n",
        "  print('É par.')\n",
        "  num = int(input('Digite um numero: '))\n",
        " else:\n",
        "   print('É impar')\n",
        "   num = int(input('Digite um numero: '))"
      ],
      "metadata": {
        "colab": {
          "base_uri": "https://localhost:8080/"
        },
        "id": "kntYXuLIYEix",
        "outputId": "ac4ed75a-f011-4629-b09b-a08cb4b02ae0"
      },
      "execution_count": 52,
      "outputs": [
        {
          "name": "stdout",
          "output_type": "stream",
          "text": [
            "Digite um numero: 2\n",
            "É par.\n",
            "Digite um numero: 2\n",
            "É par.\n",
            "Digite um numero: 4\n",
            "Digite um numero: 5\n",
            "É par.\n",
            "É impar\n",
            "Digite um numero: -8\n"
          ]
        }
      ]
    }
  ]
}